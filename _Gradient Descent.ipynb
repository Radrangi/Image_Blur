{
 "cells": [
  {
   "cell_type": "code",
   "execution_count": null,
   "metadata": {},
   "outputs": [],
   "source": [
    "import pandas as pd\n",
    "import numpy as np"
   ]
  },
  {
   "cell_type": "markdown",
   "metadata": {},
   "source": [
    "# Some test data"
   ]
  },
  {
   "cell_type": "code",
   "execution_count": null,
   "metadata": {},
   "outputs": [],
   "source": [
    "# sample dataset: 3 features and 8 observations\n",
    "data = pd.DataFrame()\n",
    "data['Y'] =  [30,31,32,33,31,29,28,21]\n",
    "data['X1'] = [1,2,3,4,5,6,7,8]\n",
    "data['X2'] = [4,3,2,1,2,3,4,5]\n",
    "data['X3'] = [9,7,5,3,1,-1,-3,1-5]\n",
    "data"
   ]
  },
  {
   "cell_type": "markdown",
   "metadata": {},
   "source": [
    "# Analytical Solution"
   ]
  },
  {
   "cell_type": "code",
   "execution_count": null,
   "metadata": {},
   "outputs": [],
   "source": [
    "# Find the analytical solution\n",
    "data['X0'] = [1,1,1,1,1,1,1,1]\n",
    "X = np.array(data[['X0','X1','X2','X3']])\n",
    "y = np.array(data['Y'])\n",
    "\n",
    "theta_true = np.dot(np.dot(np.linalg.inv(np.dot(X.T,X)),X.T),y)\n",
    "theta_true"
   ]
  },
  {
   "cell_type": "code",
   "execution_count": null,
   "metadata": {},
   "outputs": [],
   "source": [
    "# predicted y (analytical solution, note there is some irreducible error)\n",
    "np.dot(X,theta_true.T)"
   ]
  },
  {
   "cell_type": "markdown",
   "metadata": {},
   "source": [
    "#  Gradient Descent"
   ]
  },
  {
   "cell_type": "code",
   "execution_count": null,
   "metadata": {},
   "outputs": [],
   "source": [
    "def GradDesc_PT(y,X,alpha,theta,n):\n",
    "    for k in range(n):\n",
    "        theta = theta - alpha*1/len(y) * np.dot(X.T, np.dot(X,theta.T) - y.T)\n",
    "    return theta"
   ]
  },
  {
   "cell_type": "code",
   "execution_count": null,
   "metadata": {},
   "outputs": [],
   "source": [
    "alpha = 0.01\n",
    "theta_start = np.array([1,1,1,1])"
   ]
  },
  {
   "cell_type": "code",
   "execution_count": null,
   "metadata": {},
   "outputs": [],
   "source": [
    "theta_gd = GradDesc_PT(y,X,alpha,theta_start,1000000)\n",
    "theta_gd"
   ]
  },
  {
   "cell_type": "code",
   "execution_count": null,
   "metadata": {},
   "outputs": [],
   "source": [
    "# predicted y (gradient descent solution, compare to analytical above)\n",
    "np.dot(X,theta_gd.T)"
   ]
  },
  {
   "cell_type": "code",
   "execution_count": null,
   "metadata": {},
   "outputs": [],
   "source": []
  }
 ],
 "metadata": {
  "kernelspec": {
   "display_name": "Python 3.6",
   "language": "python",
   "name": "python36"
  },
  "language_info": {
   "codemirror_mode": {
    "name": "ipython",
    "version": 3
   },
   "file_extension": ".py",
   "mimetype": "text/x-python",
   "name": "python",
   "nbconvert_exporter": "python",
   "pygments_lexer": "ipython3",
   "version": "3.6.3"
  }
 },
 "nbformat": 4,
 "nbformat_minor": 2
}
